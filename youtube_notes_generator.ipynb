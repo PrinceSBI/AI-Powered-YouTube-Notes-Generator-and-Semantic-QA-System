{
 "cells": [
  {
   "cell_type": "code",
   "execution_count": 28,
   "metadata": {},
   "outputs": [],
   "source": [
    "from Files import youtube_database\n",
    "\n",
    "YT = youtube_database()"
   ]
  },
  {
   "cell_type": "code",
   "execution_count": 29,
   "metadata": {},
   "outputs": [],
   "source": [
    "# Some sample YouTube videos:\n",
    "# https://youtu.be/IdLSZEYlWVo\n",
    "# https://youtu.be/br-IaFzt2SE\n",
    "# https://youtu.be/rgRIZDsEwCk\n",
    "# https://youtu.be/_EA-74yr5D4\n",
    "# https://youtu.be/cQh1HKxhRe0\n",
    "\n",
    "# yt_video_id = 'IdLSZEYlWVo'\n",
    "list_yt = ['br-IaFzt2SE', 'rgRIZDsEwCk', '_EA-74yr5D4', 'cQh1HKxhRe0']\n",
    "\n",
    "# Adjust prompt as needed\n",
    "prompt = \"Extract key notes from video transcript: \"\n",
    "\n",
    "index = 1\n",
    "for yt_video_id in list_yt:\n",
    "\n",
    "    transcript = YT.video_to_transcript(link=yt_video_id, name=index)\n",
    "    response = YT.response_generator(transcript=transcript, name=index)\n",
    "    YT.save_to_chromaDB(link=yt_video_id, name=index)\n",
    "\n",
    "    index += index"
   ]
  },
  {
   "cell_type": "code",
   "execution_count": 30,
   "metadata": {},
   "outputs": [
    {
     "name": "stdout",
     "output_type": "stream",
     "text": [
      "************************************************************************\n",
      "1.  https://youtu.be/br-IaFzt2SE\n",
      "************************************************************************\n",
      "**Paneer Bhurji Recipe:**\n",
      "\n",
      "* **Ingredients:**\n",
      "    * 1 tbsp oil, 1 tsp ghee\n",
      "    * 1/2 tsp cumin seeds, 1/2 tsp fennel seeds\n",
      "    * 2 medium onions (chopped)\n",
      "    * 2 large green chilies (chopped)\n",
      "    * 1 medium capsicum (small pieces)\n",
      "    * 1 piece ginger, 3 cloves garlic (pounded)\n",
      "    * 1 large tomato (finely chopped)\n",
      "    * 1 tsp salt, 1/4 tsp turmeric powder\n",
      "    * 2 tsp Kashmiri red chili powder\n",
      "    * 1 tsp cumin powder, 1 tsp coriander powder\n",
      "    * 200g paneer (crumbled)\n",
      "    * 1/2 tsp garam masala powder\n",
      "    * Juice of 1/2 lemon\n",
      "    * Fresh coriander leaves (for garnish)\n",
      "\n",
      "* **Instructions:**\n",
      "    1. Sauté cumin and fennel seeds in oil and ghee.\n",
      "    2. Add onions and green chilies, cook until transparent.\n",
      "    3. Add capsicum, pounded ginger-garlic; sauté for 2 minutes.\n",
      "    4. Add tomato, salt, and spices; cook for 2 minutes.\n",
      "    5. Crumble paneer and add to the masala. Mix well.  Don't overcook.\n",
      "    6. Add garam masala.\n",
      "    7. Garnish with lemon juice and coriander.\n",
      "\n",
      "* **Serving Suggestions:** Serve hot with chapatis or rotis.  Great for lunchboxes.\n",
      "\n",
      "************************************************************************\n",
      "2.  https://youtu.be/cQh1HKxhRe0\n",
      "************************************************************************\n",
      "**Dhaba Style Paneer Curry Recipe Key Notes:**\n",
      "\n",
      "**Ingredients:**\n",
      "\n",
      "* 400g fresh paneer, cubed\n",
      "* Spices for Paneer Marinate: turmeric powder, chili powder, pepper, salt\n",
      "* Oil & Ghee for cooking\n",
      "* Whole Spices: cinnamon, cardamom (green & black), cloves, star anise, shahi jeera, bay leaf\n",
      "* 2 large onions, finely chopped\n",
      "* Garlic paste\n",
      "* Ginger paste\n",
      "* Spice powders: turmeric powder, Kashmiri red chili powder, cumin powder, coriander powder, besan (gram flour), salt\n",
      "* Puree of 6 large tomatoes\n",
      "* 1 tbsp whisked curd\n",
      "* 1 tsp garam masala powder\n",
      "* 1 tsp sugar\n",
      "* 1 cup water (adjust as needed)\n",
      "* Ghee for frying paneer\n",
      "* Kasuri methi (dried fenugreek leaves)\n",
      "* Green chilies, finely chopped\n",
      "* Ginger juliennes\n",
      "* Chopped coriander leaves\n",
      "\n",
      "\n",
      "**Instructions:**\n",
      "\n",
      "1. **Marinate Paneer:** Combine cubed paneer with turmeric powder, chili powder, pepper, and salt. Set aside.\n",
      "2. **Sauté Onions & Spices:** Heat oil and ghee in a kadai. Add whole spices and sauté until fragrant. Add chopped onions and sauté until golden brown.\n",
      "3. **Add Aromatics & Spice Powders:** Add garlic and ginger paste, then add all the spice powders (turmeric, Kashmiri chili, cumin, coriander, besan, salt). Cook for a few seconds on low heat.\n",
      "4. **Add Tomato Puree:** Add tomato puree and cook until the raw smell is gone, the sauce thickens, and oil separates.\n",
      "5. **Add Curd & Other Seasonings:** Stir in whisked curd, garam masala, and sugar.\n",
      "6. **Simmer:** Add water to create a gravy consistency and simmer for about 5 minutes.\n",
      "7. **Fry Paneer:** Fry paneer cubes in ghee until lightly browned. Set aside.\n",
      "8. **Final Touches:** Add kasuri methi, green chilies, ginger juliennes, and coriander to the gravy.\n",
      "9. **Combine & Simmer:** Gently add the fried paneer to the gravy. Simmer for a few minutes on low heat.\n",
      "10. **Serve:** Serve hot with naan or roti.\n",
      "\n",
      "\n",
      "**Tips:**\n",
      "\n",
      "* Use fresh paneer for best results.\n",
      "* Adjust spice levels to your preference.\n",
      "* Ghee adds a rich flavor.\n",
      "* The gravy should be thick and flavorful.\n",
      "\n",
      "\n",
      "**Additional Notes:**  The recipe is available in a cookbook (\"Home Cooking\" by Mehima Subramanian) which can be found at 21frames.in (currently available in India only).\n",
      "\n",
      "You need 200g of paneer (crumbled) for this Paneer Bhurji recipe.\n",
      "\n"
     ]
    },
    {
     "data": {
      "text/plain": [
       "'You need 200g of paneer (crumbled) for this Paneer Bhurji recipe.\\n'"
      ]
     },
     "execution_count": 30,
     "metadata": {},
     "output_type": "execute_result"
    }
   ],
   "source": [
    "query_text = \"How much Paneer do I need for the Paneer Bhurji recipe?\"\n",
    "n_results = 2\n",
    "YT.search(query_text, n_results)"
   ]
  },
  {
   "cell_type": "code",
   "execution_count": null,
   "metadata": {},
   "outputs": [],
   "source": []
  }
 ],
 "metadata": {
  "kernelspec": {
   "display_name": ".venv",
   "language": "python",
   "name": "python3"
  },
  "language_info": {
   "codemirror_mode": {
    "name": "ipython",
    "version": 3
   },
   "file_extension": ".py",
   "mimetype": "text/x-python",
   "name": "python",
   "nbconvert_exporter": "python",
   "pygments_lexer": "ipython3",
   "version": "3.10.0"
  }
 },
 "nbformat": 4,
 "nbformat_minor": 2
}
